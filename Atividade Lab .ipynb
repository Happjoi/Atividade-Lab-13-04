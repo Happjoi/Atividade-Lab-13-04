{
 "cells": [
  {
   "cell_type": "markdown",
   "metadata": {},
   "source": [
    "1) Faça um Programa que peça 2 números inteiros e um número real. Calcule e mostre:\n",
    "\n",
    "a)O produto do dobro do primeiro com metade do segundo.\n",
    "\n",
    "b)A soma do triplo do primeiro com o terceiro. o terceiro elevado ao cubo.\n",
    "\n",
    "2) Faça um Programa que peça dois números e imprima o maior deles.\n",
    "\n",
    "3) Faça um Programa que peça um valor e mostre na tela se o valor é positivo ou negativo.\n",
    "\n",
    "4) Faça um programa para a leitura de duas notas parciais de um aluno. O programa deve calcular a média alcançada por aluno e apresentar o resultado \"Aprovado\" ou \"Reprovado\". Considere que a escola adota média 7.00.\n",
    "\n",
    "5)Faça um Programa que leia três números e mostre o maior deles."
   ]
  },
  {
   "cell_type": "code",
   "execution_count": 9,
   "metadata": {},
   "outputs": [
    {
     "name": "stdout",
     "output_type": "stream",
     "text": [
      "4.0\n",
      "14.0\n"
     ]
    }
   ],
   "source": [
    "#1)\n",
    "\n",
    "num1= int(input('digite um numero'))\n",
    "num2= int(input('digite outro numero'))\n",
    "num3= float(input('digite mais um numero '))\n",
    "\n",
    "#a)\n",
    "\n",
    "print(((2*num1) * (num2/2)))\n",
    "\n",
    "#b)\n",
    "\n",
    "print((num1*3) + (num3**3))"
   ]
  },
  {
   "cell_type": "code",
   "execution_count": 11,
   "metadata": {},
   "outputs": [
    {
     "name": "stdout",
     "output_type": "stream",
     "text": [
      "4\n"
     ]
    }
   ],
   "source": [
    "#2)\n",
    "\n",
    "numero1 = int(input('digite um valor:'))\n",
    "numero2 = int(input('digite o segundo valor'))\n",
    "\n",
    "if(numero1 > numero2):\n",
    "    print(numero1)\n",
    "else:\n",
    "    print(numero2)"
   ]
  },
  {
   "cell_type": "code",
   "execution_count": 13,
   "metadata": {},
   "outputs": [
    {
     "name": "stdout",
     "output_type": "stream",
     "text": [
      "seu valor é negativo\n"
     ]
    }
   ],
   "source": [
    "#3)\n",
    "\n",
    "valor= int(input('digite um valor'))\n",
    "\n",
    "if(valor >0):\n",
    "    print('seu valor é positivo')\n",
    "else:\n",
    "    print('seu valor é negativo')"
   ]
  },
  {
   "cell_type": "code",
   "execution_count": 19,
   "metadata": {},
   "outputs": [
    {
     "name": "stdout",
     "output_type": "stream",
     "text": [
      "reprovado\n"
     ]
    }
   ],
   "source": [
    "#4)\n",
    "\n",
    "nota1= int(input('digite sua primeira nota'))\n",
    "nota2= int(input('digite sua segunda nota'))\n",
    "mediaNota= (nota1 + nota2) / 2\n",
    "\n",
    "if(mediaNota >= 7.00):\n",
    "    print('Aprovado')\n",
    "else:\n",
    "    print('reprovado')"
   ]
  },
  {
   "cell_type": "code",
   "execution_count": 22,
   "metadata": {},
   "outputs": [
    {
     "name": "stdout",
     "output_type": "stream",
     "text": [
      "5\n"
     ]
    }
   ],
   "source": [
    "#5)\n",
    "\n",
    "n1 = int(input('digite o primeiro numero')) \n",
    "n2 = int(input('digite o segundo numero'))\n",
    "n3 = int(input('digite o tercerio numero'))\n",
    "\n",
    "if(n1 > n2 and n1 > n3):\n",
    "    print(n1)\n",
    "elif(n2 > n1 and n2 > n3):\n",
    "    print(n2)\n",
    "elif(n3 > n1 and n3 > n2):\n",
    "    print(n3)\n",
    "    "
   ]
  },
  {
   "cell_type": "markdown",
   "metadata": {},
   "source": [
    "o and serve para adicionar mais uma verificação, na linha sete, a primeira verificação é se o numero um é maior que o numero dois, com o auxilio do 'and' é feito uma segunda verificação, onde é verificado se o valor do numero um é maior do que o do numero três"
   ]
  }
 ],
 "metadata": {
  "kernelspec": {
   "display_name": "Python 3",
   "language": "python",
   "name": "python3"
  },
  "language_info": {
   "codemirror_mode": {
    "name": "ipython",
    "version": 3
   },
   "file_extension": ".py",
   "mimetype": "text/x-python",
   "name": "python",
   "nbconvert_exporter": "python",
   "pygments_lexer": "ipython3",
   "version": "3.11.9"
  }
 },
 "nbformat": 4,
 "nbformat_minor": 2
}
